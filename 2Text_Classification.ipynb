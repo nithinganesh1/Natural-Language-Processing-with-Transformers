{
 "cells": [
  {
   "cell_type": "code",
   "execution_count": null,
   "metadata": {
    "id": "tDGlvSVWWc0T"
   },
   "outputs": [],
   "source": [
    "import pandas as pd\n",
    "import matplotlib.pyplot as plt"
   ]
  },
  {
   "cell_type": "code",
   "execution_count": null,
   "metadata": {
    "colab": {
     "base_uri": "https://localhost:8080/",
     "height": 370,
     "referenced_widgets": [
      "7574b78941b24331a37e3afadf8567cd",
      "73cd2bdf9f8d4c6da08fefdc7d8cc4cf",
      "9938c95fec294efdb6680891badb0ec5",
      "6f3036ae596340749ef347ae0aedc4cc",
      "e316b385cb774ddebe9589bfb2dd8bfa",
      "dc6b67e87f9345188b18124df6c75504",
      "0725ac67cff946998b1f1ee6e0948f87",
      "20a45fbc0c244dd3a00b85db13aedd62",
      "849f95984c334bb1b0d2b3986cd25b9b",
      "f15c938cd105406f8604ec484eece046",
      "b382c3fa95e84b8188038ea63d19899c",
      "193404d3ad5848c38c8d76cd8999dbcb",
      "4b8bd6f3e39540dfb7eff470587d4565",
      "67ebaab2367b4b0c9ca1c3bd693a3bba",
      "78505d4fc3e8476891d5a69f296e83a3",
      "4935aecef94643deb5eea165fc788263",
      "52c15dff19844f15b79d928cbd0df620",
      "fb97791f9b2f4a9d8e1bffa3f88bd4ee",
      "c0f061444e6941a3a31ed15a5477d4d9",
      "e4b854fd62e344ed8818841d86ec4b01",
      "a83b50392ad2425b8f74c2791e850ed2",
      "0de0a830c5894ff5b8936e2861ceb7ea",
      "5d678b9e46dc48d5b5fc92feb7075bee",
      "afc0fd2ef4404a68b93286868487c8f8",
      "8b4d6e86d4cf423a9b8645fc8e798e83",
      "45c48cf32f864e4dbd167060a5ae6ca5",
      "96b79d157f8c42eca89697da5225f9f4",
      "5de703b65e2b4ccbbba23b7d67ddcc75",
      "298ca3c5c2e746c1b883b1b6fdb11408",
      "50d5533b14f64dff8dc6df5d1304940b",
      "c05b0fb0a44f466e878e5f22878eaee7",
      "b6aa12147b5a499f91e88581b5e6f1b2",
      "1cdfd3aa0e494eb9a15623c1be08b850",
      "70a8d5dee0854595b8950e7df5c54873",
      "5a877b1a6fbe44818826a6a64548c29c",
      "f5481b02bd8c40178d82cb71053ea746",
      "4a18ddc0b661499eb014511a9bb22777",
      "e9bc4e5d8c124b97a18838c0b13a2868",
      "0056bb0e6666441fb8263b346555bb13",
      "833e355330be49a78438e3c22e016ec4",
      "eec05d7bc71141f588016688a2ccd4ed",
      "4495a5338ea440ea8f1f2b39353365fe",
      "74873b4a08c94ff090d0cffd4fe86eb2",
      "f21095659a0447faa9e0633348564b48",
      "9cd9ae55809a447c87bc538f8ac9dbda",
      "e5aa4c92b9d94baa810c6cac7f4391d5",
      "4120e069d853426dbbf2c2495902b348",
      "7aac6c67ac5f47d48c3f530545151b55",
      "ba31fe150fb640f9ab2ee2286a061926",
      "a248f9992c1f45ac99395dc68fa73521",
      "12e9c27fd5fb4871be112a0d202f1b6a",
      "4af9aa438d444b78a4dbcc2ee93a5baa",
      "3883bd46f52f45449662409ace0f53b2",
      "24a1eab631a8459da3cd962bd60ca51d",
      "18303cbb77174160b7b4d12db5f7cadf",
      "676b2ba94a88459aa65d4b72b00c95d9",
      "b5e95e267f36455cbe203a85e8ea73ae",
      "9436f859ab1b415786feb1bc28840a12",
      "81826d86c9d547189a1dd8ad6f03a87d",
      "329515eb140544d78268714ecebf4905",
      "fc9b301c121547bcb2e87a36c774fda9",
      "5b685953feb54a05b1b622d4668a53dc",
      "102e9f9c16be41bba87ca0f79e1c8c40",
      "7c8c637254074fc188fadcd557229b90",
      "fe52949f5d854b1e9a3ffdcf7f77eb01",
      "06cfeefed77145b4a77075b35d3bc6f1",
      "5ebe1214faab4fc48b564b45fd0a4429",
      "4bdaf770197d41a7b45d3c20506b11a4",
      "1318e36f6c0843ea8fb361bf35744458",
      "3cb74b52f60c4f6fbd00ea2ada1aba6a",
      "38e9126ec1a24d2387535cfe5af7fc52",
      "be670aacdaa74ab0b4063ca5ef1ce157",
      "16a22b6e961d4a79aa1c198f9b8b4adb",
      "c3b86ead3126468f9f8218fc336830fc",
      "e663c48811a148ef8b2d76ad73f63054",
      "f80f4de161464006bd83ffe696b6c066",
      "4ad383f1131c4cfa82cfc2e725318f94"
     ]
    },
    "id": "ycGmnR65LR50",
    "outputId": "efc540f8-641d-46bd-a442-5e9fc3e56fb6"
   },
   "outputs": [],
   "source": [
    "from datasets import load_dataset\n",
    "emotions = load_dataset(\"emotion\")"
   ]
  },
  {
   "cell_type": "code",
   "execution_count": null,
   "metadata": {
    "colab": {
     "base_uri": "https://localhost:8080/"
    },
    "id": "sFVwu_WjM1vO",
    "outputId": "419317c9-54bd-4bb1-8ec3-713f7fe45f7c"
   },
   "outputs": [],
   "source": [
    "emotions"
   ]
  },
  {
   "cell_type": "code",
   "execution_count": null,
   "metadata": {
    "id": "zKlPBnOJNDfs"
   },
   "outputs": [],
   "source": [
    "train_dataset = emotions['train']"
   ]
  },
  {
   "cell_type": "code",
   "execution_count": null,
   "metadata": {
    "colab": {
     "base_uri": "https://localhost:8080/"
    },
    "id": "zMlo1BfoNXDb",
    "outputId": "102edb6f-144c-44fe-ed0f-10a19fc4d3ab"
   },
   "outputs": [],
   "source": [
    "train_dataset"
   ]
  },
  {
   "cell_type": "code",
   "execution_count": null,
   "metadata": {
    "colab": {
     "base_uri": "https://localhost:8080/"
    },
    "id": "HTN8OT-TNYS-",
    "outputId": "1a62c793-afe1-4eb8-95a8-31836e51023d"
   },
   "outputs": [],
   "source": [
    "train_dataset[0]"
   ]
  },
  {
   "cell_type": "code",
   "execution_count": null,
   "metadata": {
    "colab": {
     "base_uri": "https://localhost:8080/"
    },
    "id": "wrQwG7luNhbn",
    "outputId": "7482d977-756d-4d45-a4ed-3a00eb90bc9f"
   },
   "outputs": [],
   "source": [
    "train_dataset[2323]"
   ]
  },
  {
   "cell_type": "code",
   "execution_count": null,
   "metadata": {
    "colab": {
     "base_uri": "https://localhost:8080/"
    },
    "id": "6xcn8hI3Nl03",
    "outputId": "173fb8d1-928c-45aa-e481-a9e10d8b9a3f"
   },
   "outputs": [],
   "source": [
    "train_dataset.features"
   ]
  },
  {
   "cell_type": "code",
   "execution_count": null,
   "metadata": {
    "id": "IYDAG1FbNt8s"
   },
   "outputs": [],
   "source": [
    "emotions.set_format(type='pandas')"
   ]
  },
  {
   "cell_type": "code",
   "execution_count": null,
   "metadata": {
    "id": "ZXM5ELXkWmFM"
   },
   "outputs": [],
   "source": [
    "df = emotions['train'][:]"
   ]
  },
  {
   "cell_type": "code",
   "execution_count": null,
   "metadata": {
    "colab": {
     "base_uri": "https://localhost:8080/",
     "height": 206
    },
    "id": "b8aFQEiaWpcp",
    "outputId": "9c341331-2290-46b3-fb10-e0c1d35e467b"
   },
   "outputs": [],
   "source": [
    "df.head()"
   ]
  },
  {
   "cell_type": "code",
   "execution_count": null,
   "metadata": {
    "colab": {
     "base_uri": "https://localhost:8080/"
    },
    "id": "fK5qC2VNWqIo",
    "outputId": "836597cf-ce98-483c-bbac-9ed4897dd559"
   },
   "outputs": [],
   "source": [
    "df.shape"
   ]
  },
  {
   "cell_type": "code",
   "execution_count": null,
   "metadata": {
    "id": "3sWsFbNKWu0g"
   },
   "outputs": [],
   "source": [
    "def label_int2str(row):\n",
    " return emotions[\"train\"].features[\"label\"].int2str(row)"
   ]
  },
  {
   "cell_type": "code",
   "execution_count": null,
   "metadata": {
    "colab": {
     "base_uri": "https://localhost:8080/",
     "height": 206
    },
    "id": "yYbOJ4HZW82q",
    "outputId": "3b7bd6ad-01ab-4309-99c3-c6849513dc3b"
   },
   "outputs": [],
   "source": [
    "df[\"label_name\"] = df[\"label\"].apply(label_int2str)\n",
    "df.head()"
   ]
  },
  {
   "cell_type": "code",
   "execution_count": null,
   "metadata": {
    "colab": {
     "base_uri": "https://localhost:8080/",
     "height": 452
    },
    "id": "3uRXy1RLXDnw",
    "outputId": "7273e20e-c60e-443e-990e-955352b0df22"
   },
   "outputs": [],
   "source": [
    "df[\"label_name\"].value_counts(ascending=True).plot.barh()\n",
    "plt.title(\"Frequency of Classes\")\n",
    "plt.show()"
   ]
  },
  {
   "cell_type": "code",
   "execution_count": null,
   "metadata": {
    "colab": {
     "base_uri": "https://localhost:8080/",
     "height": 443
    },
    "id": "45yNt2RfmEIG",
    "outputId": "82167ddc-d10c-48c2-a967-f77e68bbc239"
   },
   "outputs": [],
   "source": [
    "df[\"Words Per Tweet\"] = df[\"text\"].str.split().apply(len)\n",
    "df.boxplot(\"Words Per Tweet\", by=\"label_name\", grid=False,\n",
    " showfliers=False, color=\"black\")\n",
    "plt.suptitle(\"\")\n",
    "plt.xlabel(\"\")\n",
    "plt.show()"
   ]
  },
  {
   "cell_type": "code",
   "execution_count": null,
   "metadata": {
    "id": "6Rb7VXUDmxWg"
   },
   "outputs": [],
   "source": [
    "emotions.reset_format()"
   ]
  },
  {
   "cell_type": "code",
   "execution_count": null,
   "metadata": {
    "colab": {
     "base_uri": "https://localhost:8080/"
    },
    "id": "YIZZb84NnD3u",
    "outputId": "9a21ee34-9de7-42e5-d135-a3c3d4582017"
   },
   "outputs": [],
   "source": [
    "t = \"Tokenizing text is a core task of NLP.\"\n",
    "tokenized_text = list(t)\n",
    "print(tokenized_text)"
   ]
  },
  {
   "cell_type": "code",
   "execution_count": null,
   "metadata": {
    "colab": {
     "base_uri": "https://localhost:8080/"
    },
    "id": "bDeYOpD6Msmp",
    "outputId": "2b5383fb-8ba5-42a7-a5ef-e07b9ff8466c"
   },
   "outputs": [],
   "source": [
    "token2idx = {token: idx for idx,token in enumerate(sorted(set(tokenized_text)))}\n",
    "print(token2idx)"
   ]
  },
  {
   "cell_type": "code",
   "execution_count": null,
   "metadata": {
    "colab": {
     "base_uri": "https://localhost:8080/"
    },
    "id": "Nq6J27fqNZ_Q",
    "outputId": "b3cc8923-aabd-4dd7-def6-94f6354363b9"
   },
   "outputs": [],
   "source": [
    "input_idx = [token2idx[token] for token in tokenized_text]\n",
    "print(input_idx)"
   ]
  },
  {
   "cell_type": "code",
   "execution_count": null,
   "metadata": {
    "colab": {
     "base_uri": "https://localhost:8080/",
     "height": 143
    },
    "id": "UTfqgGaHOM2u",
    "outputId": "36f20476-188b-4902-b511-c8263ed47f19"
   },
   "outputs": [],
   "source": [
    "categorical_df = pd.DataFrame(\n",
    " {\"Name\": [\"Bumblebee\", \"Optimus Prime\", \"Megatron\"], \"Label ID\": [0,1,2]})\n",
    "categorical_df"
   ]
  },
  {
   "cell_type": "code",
   "execution_count": null,
   "metadata": {
    "colab": {
     "base_uri": "https://localhost:8080/",
     "height": 143
    },
    "id": "Sdm0RifTRgGi",
    "outputId": "7494ca10-3047-47db-cb74-6558a7371897"
   },
   "outputs": [],
   "source": [
    "#one hot\n",
    "pd.get_dummies(categorical_df[\"Name\"])"
   ]
  },
  {
   "cell_type": "code",
   "execution_count": null,
   "metadata": {
    "id": "MFXgj_hbR3vv"
   },
   "outputs": [],
   "source": [
    "import torch\n",
    "import torch.nn.functional as F"
   ]
  },
  {
   "cell_type": "code",
   "execution_count": null,
   "metadata": {
    "colab": {
     "base_uri": "https://localhost:8080/"
    },
    "id": "ubpCoEDqSccG",
    "outputId": "3be98416-729f-4537-b750-61f7a53a8f15"
   },
   "outputs": [],
   "source": [
    "input_ids = torch.tensor(input_idx)\n",
    "one_hot_encoded = F.one_hot(input_ids, num_classes=len(token2idx))\n",
    "one_hot_encoded.shape"
   ]
  },
  {
   "cell_type": "code",
   "execution_count": null,
   "metadata": {
    "colab": {
     "base_uri": "https://localhost:8080/"
    },
    "id": "EmAcYWvxTKi2",
    "outputId": "80906c4b-e67e-468a-e762-f813f6b7f5a4"
   },
   "outputs": [],
   "source": [
    "one_hot_encoded"
   ]
  },
  {
   "cell_type": "code",
   "execution_count": null,
   "metadata": {
    "colab": {
     "base_uri": "https://localhost:8080/"
    },
    "id": "4S68vBodTMnL",
    "outputId": "7c9e0f15-d2fe-42f0-91ef-17baea2f788b"
   },
   "outputs": [],
   "source": [
    "#Word Tokenization\n",
    "tokenized_text = t.split()\n",
    "print(tokenized_text)"
   ]
  },
  {
   "cell_type": "code",
   "execution_count": null,
   "metadata": {
    "id": "Deu0Jq7_Xz3Q"
   },
   "outputs": [],
   "source": [
    "from transformers import BertTokenizer # for bert tokonization\n",
    "from transformers import AutoTokenizer # for other model --> distilbert"
   ]
  },
  {
   "cell_type": "code",
   "execution_count": null,
   "metadata": {
    "colab": {
     "base_uri": "https://localhost:8080/",
     "height": 145,
     "referenced_widgets": [
      "7f059f167f074f7e89d09c2b06f6cf65",
      "aee245ecbad8448fbf5ee31b6e91dad5",
      "6bea10732bd3458bbee20d1895a403bb",
      "e8b4ff16853748dcaa5dde1d4730d264",
      "3747520512f04ecda8a53edd9fac2f0a",
      "fb9e2ac36cc541e48f96959823bb3d58",
      "1d1ecb7df569404394fbc9aa62201bf0",
      "443009c84e7c4ce9842c0cdeb0645dde",
      "868ca06ea56145e3ba9ef6fac47ff9bb",
      "b28ed47fc5db43c8b57429c21a152ec9",
      "9c4af2528a564f96b0aa8f4e1c7c5f11",
      "35e956e8c8dd4a46b1a86017ae531e8b",
      "91789b1f545946cfb189b0c37d05ddff",
      "859b54f30db644bea66285e68c457860",
      "82a8f1d73cfb4d5589a459347a51fddd",
      "15681979d0da426d92cafbd21ad61b53",
      "64a2d60dbb354562b889e28ab2f41c11",
      "8fa7ce64a3ae44078fe37440a91d3bf6",
      "4110d1a1cb4a4c22a9c73fab3d0ec5bf",
      "854c32fbb4a44785a7ba36e8ece3ecee",
      "277b8d74f6844c60819dcace561696f9",
      "0fc6f024131945e59a65538aa4a63c2f",
      "b8c1b3ed528b4fcebcf0a4e1fb457f14",
      "97c51bc8071b4edfa943ad20db0aa15c",
      "7102cca4ca0f4f8c87a4c7ada008f604",
      "00b5dd7fa7b544fe90319a8e0cd82312",
      "758424cfdea24c06b1fe4e8952aaf48c",
      "f571a3e9cfd346609d6efe4331b0c8e5",
      "8215fae8b8fa4cf8be417b3388e0bebd",
      "d5fc3dedfc064fc9a1d03e4480282083",
      "edb9fa51bbcd41e3b062726a5512af8c",
      "91716e993e1448f7833c5ac040628198",
      "d37117eddf74435ba8bb4fec0564c2ef",
      "53fbee4318e3495699b830a3369e5120",
      "91127f29b1144d91ad71075b32b28306",
      "ea49569cdcd94baf8d5c013398ff8c0f",
      "e4d718d56a6b4e459b51a16e6c5f0c17",
      "a943b0e881904ab0ae0d32175e7f1390",
      "5f1ea86ce2684fb6a25a94675f7c3e38",
      "c54aa6aa98314dfbb6e85a4496c793de",
      "03eb0200350747a69b25bc28ccc33c2f",
      "c648f64118f143d2b51b450d452be5eb",
      "c4d17e0e17f3407e88e029347d2a5fdd",
      "4940a5eecf1f4608bc09940379fd9908"
     ]
    },
    "id": "CEcqs_p6b4jT",
    "outputId": "6fa9b0ac-765b-4a8a-804e-6887be3e19ed"
   },
   "outputs": [],
   "source": [
    "model_ckpt = 'distilbert-base-uncased'\n",
    "tokenizer = AutoTokenizer.from_pretrained(model_ckpt)"
   ]
  },
  {
   "cell_type": "code",
   "execution_count": null,
   "metadata": {
    "colab": {
     "base_uri": "https://localhost:8080/"
    },
    "id": "a0wJcgFkcY1N",
    "outputId": "f662ffab-577f-4c0d-c66c-e3ae6c2e12aa"
   },
   "outputs": [],
   "source": [
    "encoder_text = tokenizer(t)\n",
    "print(encoder_text)"
   ]
  },
  {
   "cell_type": "code",
   "execution_count": null,
   "metadata": {
    "colab": {
     "base_uri": "https://localhost:8080/"
    },
    "id": "zBrz0GCi7OGI",
    "outputId": "f142222b-1bf2-423d-c055-5587a55b0b64"
   },
   "outputs": [],
   "source": [
    "tokens = tokenizer.convert_ids_to_tokens(encoder_text.input_ids)\n",
    "print(tokens)"
   ]
  },
  {
   "cell_type": "code",
   "execution_count": null,
   "metadata": {
    "colab": {
     "base_uri": "https://localhost:8080/"
    },
    "id": "Dq_S-s657ney",
    "outputId": "cc9b0f1d-2ea9-4095-a95f-fb120d7c6b2d"
   },
   "outputs": [],
   "source": [
    "print(tokenizer.convert_tokens_to_string(tokens))"
   ]
  },
  {
   "cell_type": "code",
   "execution_count": null,
   "metadata": {
    "colab": {
     "base_uri": "https://localhost:8080/"
    },
    "id": "3tRkRKtL8O06",
    "outputId": "b13979d8-1b48-4dfc-9a80-095189334d3d"
   },
   "outputs": [],
   "source": [
    "tokenizer.vocab_size"
   ]
  },
  {
   "cell_type": "code",
   "execution_count": null,
   "metadata": {
    "colab": {
     "base_uri": "https://localhost:8080/"
    },
    "id": "4ATU1wSE8VRl",
    "outputId": "4b66a842-3315-43b6-9922-a55dd915e78c"
   },
   "outputs": [],
   "source": [
    "tokenizer.model_max_length"
   ]
  },
  {
   "cell_type": "code",
   "execution_count": null,
   "metadata": {
    "colab": {
     "base_uri": "https://localhost:8080/"
    },
    "id": "JxVqlH9e8YKE",
    "outputId": "ce74c573-c2e4-4190-c91d-26c5f0dd3696"
   },
   "outputs": [],
   "source": [
    "tokenizer.model_input_names"
   ]
  },
  {
   "cell_type": "code",
   "execution_count": null,
   "metadata": {
    "id": "6DeeS1gx8c_J"
   },
   "outputs": [],
   "source": [
    "# whole dataset\n",
    "def tokenize(batch):\n",
    "  return tokenizer(batch[\"text\"], padding=True, truncation=True)"
   ]
  },
  {
   "cell_type": "code",
   "execution_count": null,
   "metadata": {
    "colab": {
     "base_uri": "https://localhost:8080/"
    },
    "id": "hZcQw21o9CSl",
    "outputId": "e32a281a-0c61-48f3-e66a-bdd5737a2b1a"
   },
   "outputs": [],
   "source": [
    "print(tokenize(emotions[\"train\"][:2]))"
   ]
  },
  {
   "cell_type": "code",
   "execution_count": null,
   "metadata": {
    "colab": {
     "base_uri": "https://localhost:8080/",
     "height": 113,
     "referenced_widgets": [
      "a8328f7ec7814374ba23eb842817af0b",
      "d88941f1256b48c0b3026dd8a0021f85",
      "ed9efc5643a8432186a7711f17045d6f",
      "36f37cf47eb04ef291589b6fb9e9e56f",
      "8e1dbf127f3149948eae87563c22eb85",
      "3cf429368d2c46198773e16595930e48",
      "f0c17a5e56cc4d7ba65348cc74563e57",
      "059d68dc05334efba7f0950810f5543f",
      "df67296d1c3e40d2a3ffedf7a520b4e3",
      "180cb9a59b93431fb8b1fde20eb73e7f",
      "95ace587a9504d67af9116d24df10dd1",
      "00c68e22ec744dc7804540a4e72e3329",
      "7044fb1f844f4145be641bed22f476c0",
      "5300adf908d84772b1d533a9308530fa",
      "c6c37f9bc3f64a6888ba0aa7cc1bc5db",
      "8ca9298fb39740b3a96b28a0ea2ceacb",
      "1c1370ef91fa4f599207b72db75aef44",
      "c73bc86ffb94413490100b17eb81d03d",
      "1e72ecb003b742938ca52871cc75d18c",
      "9d4472283dcb4e9b80ea4c9e5a88a780",
      "cee339ebc78c49b5a029379577e889a2",
      "b9d9d0330a3247ca969e19be9480b8f9",
      "c627d68790be4c4384e3c4668c04ddda",
      "889da0b3ad4c459b948b0221e10ccaf0",
      "43d700ae0d0141c8b8fb9a3c092c1fe8",
      "507f1a22e1ea41d7828ff08d1228c1df",
      "da2ff13f0128490b84886de30f97cbdd",
      "6a72ba4d089f41319f706056bdf29a23",
      "cb13a65b0c64491bb36682215ecb0c3f",
      "8855af030c33449685c53a3661906f28",
      "92b4616bfabb4673a82fa05c776c27c1",
      "eed11ad032b74c5587c3a32391269b8c",
      "b52fa72d75744022864ca313ead3a0f5"
     ]
    },
    "id": "hDMZnyyJ9PeB",
    "outputId": "01d82b0e-e984-44b3-8a7c-c2e0d95e74af"
   },
   "outputs": [],
   "source": [
    "emotions_encoded = emotions.map(tokenize, batched=True, batch_size=None)"
   ]
  },
  {
   "cell_type": "code",
   "execution_count": null,
   "metadata": {
    "colab": {
     "base_uri": "https://localhost:8080/"
    },
    "id": "VoA4zgxQ-aDo",
    "outputId": "4564feca-b9aa-480e-8c0a-326fa9b87b60"
   },
   "outputs": [],
   "source": [
    "emotions_encoded"
   ]
  },
  {
   "cell_type": "code",
   "execution_count": null,
   "metadata": {
    "colab": {
     "base_uri": "https://localhost:8080/"
    },
    "id": "66dSuZLO-dg0",
    "outputId": "38af74bb-d07c-475d-b745-72a3950c5988"
   },
   "outputs": [],
   "source": [
    "print(emotions_encoded[\"train\"].column_names)"
   ]
  },
  {
   "cell_type": "markdown",
   "metadata": {
    "id": "TOfFKECOrML4"
   },
   "source": [
    "### Transformers as Feature Extractors"
   ]
  },
  {
   "cell_type": "code",
   "execution_count": null,
   "metadata": {
    "id": "GFNhIYBDEKlJ"
   },
   "outputs": [],
   "source": [
    "device = torch.device(\"cuda\" if torch.cuda.is_available() else \"cpu\")"
   ]
  },
  {
   "cell_type": "code",
   "execution_count": null,
   "metadata": {
    "id": "Nwo1ccM2-rYU"
   },
   "outputs": [],
   "source": [
    "from transformers import AutoTokenizer, AutoModel\n",
    "import torch"
   ]
  },
  {
   "cell_type": "code",
   "execution_count": null,
   "metadata": {
    "colab": {
     "base_uri": "https://localhost:8080/",
     "height": 49,
     "referenced_widgets": [
      "853eb596faf845128898b705ea88909e",
      "2ce825ffb4ca4945b3ccadbedd2d9c8b",
      "bb88077ad9434f2cbe4af372b34d98ce",
      "4835de45f6564440b7c656aead999279",
      "4b34d8c1d333435f9e2264cb64ff16e1",
      "00993d7990fc463bb50cf8ac0a89016b",
      "9314edb7d38d459ca0885a172ee457fa",
      "c9550397f02f4d6fa707e23648e38da5",
      "c9a63c1dbc674cb9aff11ea37e16db8d",
      "dd2f66e4446f426e8acaa823803a30b2",
      "4b1e99852daa4ee2a340f6d51658ff34"
     ]
    },
    "id": "WlIxQTOtraXh",
    "outputId": "62bc7945-3c4e-488f-9220-e3d64148b165"
   },
   "outputs": [],
   "source": [
    "model_ckpt = \"distilbert-base-uncased\"\n",
    "tokenizer = AutoTokenizer.from_pretrained(model_ckpt)\n",
    "model = AutoModel.from_pretrained(model_ckpt).to(device)"
   ]
  },
  {
   "cell_type": "code",
   "execution_count": null,
   "metadata": {
    "colab": {
     "base_uri": "https://localhost:8080/"
    },
    "id": "00jEailarvJu",
    "outputId": "18fa2947-f1fd-4dfa-853b-28c8dfcf06ae"
   },
   "outputs": [],
   "source": [
    "# Encode a text\n",
    "text = \"ROS 2 is a communication system that allows for seamless communication between the various parts of a robot.\"\n",
    "inputs = tokenizer(text, return_tensors=\"pt\").to(device)\n",
    "print(inputs)"
   ]
  },
  {
   "cell_type": "code",
   "execution_count": null,
   "metadata": {
    "id": "R7vhpTQOuFSO"
   },
   "outputs": [],
   "source": [
    "with torch.no_grad():\n",
    "  outputs = model(**inputs)"
   ]
  },
  {
   "cell_type": "code",
   "execution_count": null,
   "metadata": {
    "colab": {
     "base_uri": "https://localhost:8080/"
    },
    "id": "rZO4jx0MwdBl",
    "outputId": "8cb2587f-7dad-4512-d8b3-5aac6f34e0c3"
   },
   "outputs": [],
   "source": [
    "# CLS token representation (embedding vector)\n",
    "cls_embedding = outputs.last_hidden_state[:,0,:]\n",
    "print(cls_embedding.shape)"
   ]
  },
  {
   "cell_type": "code",
   "execution_count": null,
   "metadata": {
    "colab": {
     "base_uri": "https://localhost:8080/"
    },
    "id": "Obdv-bqLxrk6",
    "outputId": "0dab9ed1-2eec-499c-b52f-699095221179"
   },
   "outputs": [],
   "source": [
    "outputs.last_hidden_state[:,0].size()"
   ]
  },
  {
   "cell_type": "code",
   "execution_count": null,
   "metadata": {
    "id": "SgHvfXqi6iIo"
   },
   "outputs": [],
   "source": [
    "def extract_hidden_states(batch):\n",
    "  inputs = {k: v.to(device) for k,v in batch.items()\n",
    "            if k in tokenizer.model_input_names}\n",
    "\n",
    "  with torch.no_grad():\n",
    "    last_hidden_state = model(**inputs).last_hidden_state\n",
    "\n",
    "  cls_embeddings = last_hidden_state[:,0].cpu().numpy()\n",
    "  return {\"hidden_state\": cls_embeddings}"
   ]
  },
  {
   "cell_type": "code",
   "execution_count": null,
   "metadata": {
    "id": "QPYvsuyx6jdF"
   },
   "outputs": [],
   "source": [
    "emotions_encoded.set_format('torch',columns =\n",
    "                            [\"input_ids\", \"attention_mask\", \"label\"])"
   ]
  },
  {
   "cell_type": "code",
   "execution_count": null,
   "metadata": {
    "colab": {
     "base_uri": "https://localhost:8080/",
     "height": 113,
     "referenced_widgets": [
      "e8cf978c904345c2b23e8656dc3869ae",
      "055f75e0251c45b59b90955af38bcfda",
      "d4ac8bc159b7490ea6a57115fe5b96be",
      "b680665627944e0d805168f12021e30e",
      "4d6dcf079ffb49d3a964793494adacf8",
      "2f8de302668b4643aa5dab99646a5ef2",
      "3758fb3fb2004352b4642445cbfb6654",
      "fb82e915d6ab4bfbae2d77fee9c1a583",
      "1a64fbf18c4145f0b201049986a28105",
      "0b3a52738c024d80b57195514ac3933b",
      "75fcc35d7a01430a93552255b5d9db48",
      "d9cc588b9263424688bb6f51b64d6c6f",
      "c0a4ebe6ec5d47b7b4b7d5217b0ddcdb",
      "d1347307393f4b53a6c8e7e82090abff",
      "d55e5c4caa6a43f787d6ce94fb795b78",
      "c5c108fbf71841f9bde3a1c24b1b48cf",
      "819271d67e0f48799772cfb56f5d74bf",
      "301db38ab0bb4596a3a13c7800e756c0",
      "a222a1c114df4053a975a38cb6c4046e",
      "c6cf58feb3c244c69984e35dfd0b5da3",
      "a72a6bdd9447408fb10921448cb32400",
      "8ef9f9b221994f4396a680faabfbedda",
      "436fcccfe0b54c0a9b0907313c0bb8fb",
      "4c76addb55674257b77102bb063b3758",
      "518870b457de423a973b0c8e5f6dee54",
      "329030147b8242f89edd0ddfec247ed2",
      "90fcde67774d402584ea496de54737c4",
      "ee9c0f9a25894ad697699b8b482def76",
      "f84122b0f7824b87a30b364c67810343",
      "8e13dac59c9c4b26973bcd66e2f1f104",
      "a1ca01c875804c88972185a1e9f782d0",
      "a31d699ed16c4ad3bf368218ebe8181d",
      "034fdae227f54f60a2755d37dac7ab2c"
     ]
    },
    "id": "F5KrAmV682JG",
    "outputId": "735e3fcf-d1bd-4585-c0cf-4e98fe689822"
   },
   "outputs": [],
   "source": [
    "emotions_hidden = emotions_encoded.map(extract_hidden_states,batched=True)"
   ]
  },
  {
   "cell_type": "code",
   "execution_count": null,
   "metadata": {
    "colab": {
     "base_uri": "https://localhost:8080/"
    },
    "id": "UPwCHxQ99CSy",
    "outputId": "00547d59-38c1-46ac-8cb2-7625ba4c3f12"
   },
   "outputs": [],
   "source": [
    "emotions_hidden[\"train\"].column_names"
   ]
  },
  {
   "cell_type": "code",
   "execution_count": null,
   "metadata": {
    "colab": {
     "base_uri": "https://localhost:8080/"
    },
    "id": "EcuWteQlEtT_",
    "outputId": "ac17aaed-11ec-442e-df85-96952544325c"
   },
   "outputs": [],
   "source": [
    "import numpy as np\n",
    "X_train = np.array(emotions_hidden[\"train\"][\"hidden_state\"])\n",
    "X_valid = np.array(emotions_hidden[\"validation\"][\"hidden_state\"])\n",
    "y_train = np.array(emotions_hidden[\"train\"][\"label\"])\n",
    "y_valid = np.array(emotions_hidden[\"validation\"][\"label\"])\n",
    "X_train.shape, X_valid.shape"
   ]
  },
  {
   "cell_type": "code",
   "execution_count": null,
   "metadata": {
    "id": "t17E-XghE13q"
   },
   "outputs": [],
   "source": [
    "from umap import UMAP\n",
    "from sklearn.preprocessing import MinMaxScaler\n",
    "# Scale features to [0,1] range\n",
    "X_scaled = MinMaxScaler().fit_transform(X_train)\n",
    "# Initialize and fit UMAP\n",
    "mapper = UMAP(n_components=2, metric=\"cosine\").fit(X_scaled)\n",
    "# Create a DataFrame of 2D embeddings\n",
    "df_emb = pd.DataFrame(mapper.embedding_, columns=[\"X\", \"Y\"])\n",
    "df_emb[\"label\"] = y_train # Add the label column from y_train"
   ]
  },
  {
   "cell_type": "code",
   "execution_count": null,
   "metadata": {
    "colab": {
     "base_uri": "https://localhost:8080/",
     "height": 468
    },
    "id": "XdPEJk6gE9gF",
    "outputId": "17a7ce8e-83d5-4c81-dd26-c72157972a84"
   },
   "outputs": [],
   "source": [
    "fig, axes = plt.subplots(2, 3, figsize=(7,5))\n",
    "axes = axes.flatten()\n",
    "cmaps = [\"Greys\", \"Blues\", \"Oranges\", \"Reds\", \"Purples\", \"Greens\"]\n",
    "labels = emotions[\"train\"].features[\"label\"].names\n",
    "for i, (label, cmap) in enumerate(zip(labels, cmaps)):\n",
    "  df_emb_sub = df_emb.query(f\"label == {i}\")\n",
    "  axes[i].hexbin(df_emb_sub[\"X\"], df_emb_sub[\"Y\"], cmap=cmap,\n",
    "                 gridsize=20, linewidths=(0,))\n",
    "  axes[i].set_title(label)\n"
   ]
  },
  {
   "cell_type": "code",
   "execution_count": null,
   "metadata": {
    "colab": {
     "base_uri": "https://localhost:8080/"
    },
    "id": "VBj00p86FeI3",
    "outputId": "4887ab94-8725-40d6-ae4e-87ce8a056240"
   },
   "outputs": [],
   "source": [
    "from sklearn.linear_model import LogisticRegression\n",
    "# We increase `max_iter` to guarantee convergence\n",
    "lr_clf = LogisticRegression(max_iter=3000)\n",
    "lr_clf.fit(X_train, y_train)\n",
    "lr_clf.score(X_valid, y_valid)"
   ]
  },
  {
   "cell_type": "code",
   "execution_count": null,
   "metadata": {
    "colab": {
     "base_uri": "https://localhost:8080/"
    },
    "id": "6XQmDbeBGFSS",
    "outputId": "c9c28e78-091b-410f-c4c9-fed2a106e620"
   },
   "outputs": [],
   "source": [
    "from sklearn.dummy import DummyClassifier\n",
    "dummy_clf = DummyClassifier(strategy=\"most_frequent\")\n",
    "dummy_clf.fit(X_train, y_train)\n",
    "dummy_clf.score(X_valid, y_valid)"
   ]
  },
  {
   "cell_type": "code",
   "execution_count": null,
   "metadata": {
    "colab": {
     "base_uri": "https://localhost:8080/",
     "height": 564
    },
    "id": "TU1TuKY0GS4F",
    "outputId": "af7a972b-065f-4e4c-f647-a3aedf7ebb36"
   },
   "outputs": [],
   "source": [
    "from sklearn.metrics import ConfusionMatrixDisplay, confusion_matrix\n",
    "def plot_confusion_matrix(y_preds, y_true, labels):\n",
    "    cm = confusion_matrix(y_true, y_preds, normalize=\"true\")\n",
    "    fig, ax = plt.subplots(figsize=(6, 6))\n",
    "    disp = ConfusionMatrixDisplay(confusion_matrix=cm, display_labels=labels)\n",
    "    disp.plot(cmap=\"Blues\", values_format=\".2f\", ax=ax, colorbar=False)\n",
    "    plt.title(\"Normalized confusion matrix\")\n",
    "    plt.show()\n",
    "y_preds = lr_clf.predict(X_valid)\n",
    "plot_confusion_matrix(y_preds, y_valid, labels)"
   ]
  },
  {
   "cell_type": "markdown",
   "metadata": {
    "id": "EibP_F8oHVH-"
   },
   "source": [
    "## Fine-Tuning Transformers"
   ]
  },
  {
   "cell_type": "code",
   "execution_count": null,
   "metadata": {
    "colab": {
     "base_uri": "https://localhost:8080/"
    },
    "id": "DkNkZ187Gxu6",
    "outputId": "f2258764-c8d6-4f55-870e-e536b67d9ad1"
   },
   "outputs": [],
   "source": [
    "from transformers import AutoModelForSequenceClassification #not Automodel like featured-based approach it has calssification head on top the pretrained model outputs, which can be easily trained with the hbase model.\n",
    "num_labels = 6\n",
    "model = (AutoModelForSequenceClassification.from_pretrained(\n",
    "    model_ckpt, num_labels=num_labels).to(device))"
   ]
  },
  {
   "cell_type": "code",
   "execution_count": null,
   "metadata": {
    "id": "qERLnj9VJZzf"
   },
   "outputs": [],
   "source": [
    "from sklearn.metrics import accuracy_score, f1_score\n",
    "def compute_metrics(pred):\n",
    "  labels = pred.label_ids\n",
    "  preds = pred.predictions.argmax(-1)\n",
    "  f1 = f1_score(labels, preds, average=\"weighted\")\n",
    "  acc = accuracy_score(labels, preds)\n",
    "  return {\"accuracy\": acc, \"f1\": f1}"
   ]
  },
  {
   "cell_type": "code",
   "execution_count": null,
   "metadata": {
    "colab": {
     "base_uri": "https://localhost:8080/",
     "height": 17,
     "referenced_widgets": [
      "b1b58673e0114715af38e66c29b6174b",
      "a83a7c9c57ea443d852088e5ef153a8a",
      "5c4b42cffa6d4944b8ef5919e20660cb",
      "df41338919814fdb84a247dc46acaa82",
      "f15907f835964e088d1326f34f6a0a45",
      "345569e4c26044f19ba744d878300256",
      "ae1dba94276d41cca5ea8916b68b3fe5",
      "38fb267aebf9488288165d07595a8d14",
      "18bb1307d4d74ca5b8aab24a3f89cf5d",
      "9070b736d21d4372849770a4ae849316",
      "95b44af57b17450f86505e773c63234f",
      "9fa0401b17ac46f59396fb8c1dc90469",
      "0beeda0dc5c747099d294575a0c8461e",
      "6f65153ab19a4c1fb528814c9d71cd46",
      "fc5586a4ff2d4aa3be77ebd65a0693be",
      "4673a4b234b748efa3156d461ae4190c",
      "4585c035f90842aa95b57e1a3cd31f2f",
      "db6f12fab86a4137b048b7149758bb72",
      "2dbfaa93fb984270bf74abb6cfc2ecb0",
      "0c93c4791045418dbe487129dfdcc04f"
     ]
    },
    "id": "264nFq1RKIQH",
    "outputId": "aba17fbe-0a24-4c2e-f478-05da83bebc90"
   },
   "outputs": [],
   "source": [
    "from huggingface_hub import notebook_login\n",
    "notebook_login()"
   ]
  },
  {
   "cell_type": "code",
   "execution_count": null,
   "metadata": {
    "id": "Gyxn5smOPbqD"
   },
   "outputs": [],
   "source": [
    "from transformers import Trainer, TrainingArguments\n",
    "\n",
    "batch_size = 64\n",
    "logging_steps = len(emotions_encoded[\"train\"]) // batch_size\n",
    "model_name = f\"{model_ckpt}-finetuned-emotion\"\n",
    "training_args = TrainingArguments(output_dir=model_name,\n",
    "            num_train_epochs=2,\n",
    "            learning_rate=2e-5,\n",
    "            per_device_train_batch_size=batch_size,\n",
    "            per_device_eval_batch_size=batch_size,\n",
    "            weight_decay=0.01,\n",
    "            eval_strategy=\"epoch\",\n",
    "            disable_tqdm=False,\n",
    "            logging_steps=logging_steps,\n",
    "            push_to_hub=True,\n",
    "            log_level=\"error\")"
   ]
  },
  {
   "cell_type": "code",
   "execution_count": null,
   "metadata": {
    "colab": {
     "base_uri": "https://localhost:8080/",
     "height": 480
    },
    "id": "kI1X34MpP2rN",
    "outputId": "66a032cd-a846-44b1-c618-9b5bda7ae614"
   },
   "outputs": [],
   "source": [
    "from transformers import Trainer\n",
    "trainer = Trainer(model=model, args=training_args,\n",
    "      compute_metrics=compute_metrics,\n",
    "      train_dataset=emotions_encoded[\"train\"],\n",
    "      eval_dataset=emotions_encoded[\"validation\"],\n",
    "      tokenizer=tokenizer)\n",
    "trainer.train();"
   ]
  },
  {
   "cell_type": "code",
   "execution_count": null,
   "metadata": {
    "colab": {
     "base_uri": "https://localhost:8080/",
     "height": 17
    },
    "id": "9cYTL3caQNAD",
    "outputId": "caa0ec1e-6eaa-401e-def5-b742a4486824"
   },
   "outputs": [],
   "source": [
    "preds_output = trainer.predict(emotions_encoded[\"validation\"])"
   ]
  },
  {
   "cell_type": "code",
   "execution_count": null,
   "metadata": {
    "colab": {
     "base_uri": "https://localhost:8080/"
    },
    "id": "Q3DxltB1Spl5",
    "outputId": "3e061b6d-c8d0-4ba2-f7fa-9d6df790f820"
   },
   "outputs": [],
   "source": [
    "preds_output.metrics"
   ]
  },
  {
   "cell_type": "code",
   "execution_count": null,
   "metadata": {
    "id": "8qyueXvLStm-"
   },
   "outputs": [],
   "source": [
    "y_preds = np.argmax(preds_output.predictions, axis=1)"
   ]
  },
  {
   "cell_type": "code",
   "execution_count": null,
   "metadata": {
    "colab": {
     "base_uri": "https://localhost:8080/",
     "height": 564
    },
    "id": "k0VE52I9SzEk",
    "outputId": "a46db4f2-ad30-493a-b3a0-3ca423e51c87"
   },
   "outputs": [],
   "source": [
    "plot_confusion_matrix(y_preds, y_valid, labels)"
   ]
  },
  {
   "cell_type": "code",
   "execution_count": null,
   "metadata": {
    "id": "OUDiwutcS1Os"
   },
   "outputs": [],
   "source": [
    "from torch.nn.functional import cross_entropy\n",
    "def forward_pass_with_label(batch):\n",
    " # Place all input tensors on the same device as the model\n",
    "    inputs = {k:v.to(device) for k,v in batch.items()\n",
    "           if k in tokenizer.model_input_names}\n",
    "    with torch.no_grad():\n",
    "      output = model(**inputs)\n",
    "      pred_label = torch.argmax(output.logits, axis=-1)\n",
    "      loss = cross_entropy(output.logits, batch[\"label\"].to(device),\n",
    "                          reduction=\"none\")\n",
    "      # Place outputs on CPU for compatibility with other dataset columns\n",
    "    return {\"loss\": loss.cpu().numpy(),\"predicted_label\": pred_label.cpu().numpy()}"
   ]
  },
  {
   "cell_type": "code",
   "execution_count": null,
   "metadata": {
    "colab": {
     "base_uri": "https://localhost:8080/",
     "height": 49,
     "referenced_widgets": [
      "7df2ef69d52a4a80b69d0e6c50509c67",
      "55df67a125be4a6d8513803c46a67768",
      "1bfc72155a444750b6013b1db4bca76b",
      "1f8bfbaab632415780d38a40666ebf5a",
      "f107bc75f9904e71accb38d8827c035d",
      "50d75db204c543edaa181ad0024b7684",
      "0abcd44e9fb544499bc5c745dc970eef",
      "80b8fa9fd66145408aae083349ba929c",
      "8dde82d14b1241e78d1c72845cac2750",
      "209c3d179ddf4df3a8f17d3ba5e7cd95",
      "1e1af91f865443ac87cfc76d7a378651"
     ]
    },
    "id": "7-OqXtLqbnwB",
    "outputId": "f4cbd836-b0b8-4047-dda2-53cd287e1965"
   },
   "outputs": [],
   "source": [
    "# Convert our dataset back to PyTorch tensors\n",
    "emotions_encoded.set_format(\"torch\",\n",
    " columns=[\"input_ids\", \"attention_mask\", \"label\"])\n",
    "# Compute loss values\n",
    "emotions_encoded[\"validation\"] = emotions_encoded[\"validation\"].map(\n",
    " forward_pass_with_label, batched=True, batch_size=16)"
   ]
  },
  {
   "cell_type": "code",
   "execution_count": null,
   "metadata": {
    "id": "1yfQjmlib6Dc"
   },
   "outputs": [],
   "source": [
    "emotions_encoded.set_format(\"pandas\")\n",
    "cols = [\"text\", \"label\", \"predicted_label\", \"loss\"]\n",
    "df_test = emotions_encoded[\"validation\"][:][cols]\n",
    "df_test[\"label\"] = df_test[\"label\"].apply(label_int2str)\n",
    "df_test[\"predicted_label\"] = (df_test[\"predicted_label\"].apply(label_int2str))"
   ]
  },
  {
   "cell_type": "code",
   "execution_count": null,
   "metadata": {
    "colab": {
     "base_uri": "https://localhost:8080/",
     "height": 362
    },
    "id": "Jk74QoEEYCuW",
    "outputId": "a46f25a9-07c0-4d1a-ae93-081f406c841f"
   },
   "outputs": [],
   "source": [
    "df_test.sort_values(\"loss\", ascending=False).head(10) # higherst losess"
   ]
  },
  {
   "cell_type": "code",
   "execution_count": null,
   "metadata": {
    "colab": {
     "base_uri": "https://localhost:8080/",
     "height": 362
    },
    "id": "coiZ4wbQYiBM",
    "outputId": "9d9e1bd4-a424-43e5-b2c3-b0f3b294078a"
   },
   "outputs": [],
   "source": [
    "df_test.sort_values(\"loss\", ascending=True).head(10)"
   ]
  },
  {
   "cell_type": "code",
   "execution_count": null,
   "metadata": {
    "colab": {
     "base_uri": "https://localhost:8080/",
     "height": 249,
     "referenced_widgets": [
      "000a5b7678e14d2b8db1c0049608b017",
      "36b4e8fc26374933a3f4bff5b91a3d84",
      "f8bbe559e1f748c1970970d724bbf654",
      "c934bf4c1cc74b3094346849bffc8358",
      "734a728ca7034826b1f3300df55e8ef7",
      "733412cafde340c9b43f23264a95473f",
      "5c18556640d846ae9c58465006fbbe7e",
      "f6670e6e64a941d98f2dd5bbc4699317",
      "931c51ba588f4e409fed35b6c94d2cf7",
      "413ff4d80efe4564bb14bde0773a0ae0",
      "c94fbf6a60a64b11af6ce19a387e23c2",
      "e04dc5770f334fb5bd54f19d82d8f9b0",
      "d45035250dcb437bb361db2c882d5920",
      "1384520af00a40679e028e04b7ce7626",
      "2698cc5ded92424da6003c24b8f33ba7",
      "379b5bb5cf044266b486cf3ad277c7b0",
      "710d53b4834d40d181e4ad80357d8d27",
      "aa9e3ce8c2cd4b65a383382867a728aa",
      "5639667717604958bb28f8fe04a7125e",
      "cf5905717b024debaede4bd3a3530a09",
      "70c22a49c1c04cf0b21331c5c0607fce",
      "463e951e84fb49e4b8461c442637fbce",
      "1d332bfd6cf54983a1940cfbc01dbc51",
      "991edb1ee49340799d38eac540b6b53e",
      "718c570116854deba3f58ae9a77b7777",
      "d92ee1f59c6344dda0b6e3b1f0cf5ed8",
      "ac51b06570fe4030afec6e5e1f4ebeff",
      "eda2570e5bf64014b37ffcb874560c9f",
      "1491b3ec04ec4dcd8e07c4e5f6ee9648",
      "05c2e36f61284b878fe35cf69cfa9c0d",
      "070e08a191a74285942ee08d6dca0b70",
      "78390ba3e0334f46bd597bdae3dc4cba",
      "4a9f91ac3f4247539ac41c395f5de0e5",
      "bd8ea85f1e464a46b8753d9b7c751106",
      "50fc8c6fc5644711815445d8cdecf4d7",
      "18855f7fe2c04bdeb208b6fcfa64b06d",
      "98c0241b86c94f96b5e0f96698f9a7bb",
      "ff5a4de035b84e0c8cd6fc015fc5c449",
      "df9e6d26121c45e19840a7ba6b0bd93d",
      "7880c8ec890b46a78b31c961c74f4ea3",
      "6f0782e0a0844dbe99eb050103697d0f",
      "f163455593264dd1b29277962accc94b",
      "60c21bba8c814e52bbd82d110a2bb310",
      "a89de00c369f42c08cbc48cea146bbec",
      "037d938d4f614adcabcc8cb98fc6094a",
      "287899e2cd3d4f6692ac235afbcf1952",
      "0e2b702fc2314b15a7bfd8165b4e2f7b",
      "15c76b1ca80a43d29296a4b3dd68a56e",
      "75c7b74d95294a60983b1b2a127c156a",
      "ef1c578093e04f6aa2ed68f98061e456",
      "0124b41d6f4c4f0f9e9ae5a5a1c27918",
      "f611fe411a1246f5a3195ef07f753c49",
      "43076ae3b8094f38a41a279ecb8f49b5",
      "a877b981a5ab4bcea61ce835234c2f5d",
      "7131edc6fbf6449a8fd2a567368fd811"
     ]
    },
    "id": "ZjnSNjvLYn0t",
    "outputId": "0755ed2d-9298-45a3-c81b-26f6953e097d"
   },
   "outputs": [],
   "source": [
    "trainer.push_to_hub(commit_message=\"Training completed!\")"
   ]
  },
  {
   "cell_type": "code",
   "execution_count": null,
   "metadata": {
    "colab": {
     "base_uri": "https://localhost:8080/",
     "height": 209,
     "referenced_widgets": [
      "35bd306645154db783521bde967efdb8",
      "32739b92a3b34050b97e0b810da67ae8",
      "61b48edf950d42c1abdbf44bdb9ad37b",
      "2e02fef1c90342b2a30a3ba56e2c5919",
      "b5ae923574794ab8917df7959f42699a",
      "d2849a2b7c1e40c2b43a8ba4a9d30872",
      "ff36cbb07501476481a04ac1111318d0",
      "09eae19139174126b77614c176ca6965",
      "c75498ae21554b4b88a12500bd9a0d86",
      "dac9ce65d02544fbbbd45ed804a05935",
      "9876036f0bdc4d809cc2f0f6afba43de",
      "457643cffee64622aedd7f85fe9f2f89",
      "a71fa6dd04864873b20bea7c2c6cc2b2",
      "35e54cff11554a47945f5bce22398bfc",
      "a6baac23df0948dfa6ac9bf21cc45d41",
      "9e919a7522c6444fba099a0850692ffb",
      "e1565d11708b45e6a4e2a90a0554f443",
      "ad943587ab6341d8a5e70d8fb542b1e4",
      "b4f605e97f944f5f9018e6e45f392cd1",
      "cc52d53085d64c78bca3cf45cb676b48",
      "f8f2987b23254ec393b9c027fc1a6a22",
      "cb36bc7c259f46dea4113a46359c2591",
      "9269f8328ae4425890bc37a3a1ba02bb",
      "aec37c97bdba4b4089825d9fcd82d6f6",
      "232ddcca0d3740ef92cad457cdc1a374",
      "23cfc6b35b3f4e8abc21cc8f67921294",
      "6caa7f91c68b445187a497da602655da",
      "ade691b8b6b74d77bb3696bf904a9fd6",
      "4cabf5e60ba340e8b35dc036341bb6a9",
      "5ddfe6c265d0467daf8317e49bf01b11",
      "2b7068725fbc4b8e9cf51a42c7c77b4f",
      "410b998b750e4cb1842a0569df8c3a17",
      "2346408817874635b5075754176e486a",
      "35e3068800fe48548599056cdb498dd5",
      "757cfd802bc547469209cd9a19da53e1",
      "e416d4b02b884682b9105a9e72d9e621",
      "e4be0f0f2d3847e494f744bc8acf5533",
      "06f048a315404bfaa14ba497fd178c00",
      "475e852dbadd4c3c82dcc2a110148e0d",
      "e745e7be7bf54348b3d12d1d150167cf",
      "c4fa0ef85fc44e0cb1ab5b87d52c17a6",
      "1207fdcda2984717a26f28bc587525e0",
      "b8bc63a9c80a4630a25be380c52b252c",
      "8631aefd4d484bdb96873185565c8dcc",
      "9bd7b503ddea4757a0f6aebe08166d43",
      "43f0132e8322425ca862e8c168a411e8",
      "4a3494265a194879bd539d030296371e",
      "6366fe598c224b0caa2a8418d98ddded",
      "8d8f4a197f454a1fa3dbd1c2aa3c909a",
      "8ccd2e551a4342f381952b612462dd30",
      "82773f959e814386accfd453343c79ff",
      "7ce96fc1259248cb87af01caddbcc62d",
      "ed95127c8b094f78be70fc2408a5e62c",
      "34de7a6652ec4ea6b3e1049341d99d06",
      "d6034c4808b44d25b88126c55f88ffa8",
      "0cc5b51f93c143818d111aef3c094753",
      "91690c6f98b74ed08ff59053a365cb10",
      "fbe2360da7c1490b9248e419d0ddde56",
      "3154bf6456054d459854ed5cdc4cecbd",
      "0cd699e2476d4f53aabed0b9505c31f7",
      "b597d2b022274c92aa9a291b715fc3a5",
      "58f4fd347ea445fc82d0f9190727208e",
      "e1840f4fe64f44439958482e4efadf8a",
      "ec7dc5b26fe548e1a72d3467b8cdfdbd",
      "30b41426ea994a3d8681feafc4dc63c7",
      "b72856e3f59c424891ea422bf35e18b4"
     ]
    },
    "id": "ZyAbziXlY4vL",
    "outputId": "0f3fb5e0-5ee5-445a-9e63-348de4f3cfca"
   },
   "outputs": [],
   "source": [
    "#loading my model from hugging face\n",
    "from transformers import pipeline\n",
    "# Change `transformersbook` to your Hub username\n",
    "model_id = \"nithinganesh/distilbert-base-uncased-finetuned-emotion\"\n",
    "classifier = pipeline(\"text-classification\", model=model_id)"
   ]
  },
  {
   "cell_type": "code",
   "execution_count": null,
   "metadata": {
    "colab": {
     "base_uri": "https://localhost:8080/"
    },
    "id": "b0Wlw01jZIYb",
    "outputId": "6c382900-5873-4d07-bc4d-d6366326667f"
   },
   "outputs": [],
   "source": [
    "custom_tweet = \"I saw a movie today and it was really good.\"\n",
    "preds = classifier(custom_tweet, return_all_scores=True)"
   ]
  },
  {
   "cell_type": "code",
   "execution_count": null,
   "metadata": {
    "colab": {
     "base_uri": "https://localhost:8080/",
     "height": 452
    },
    "id": "jbIHoaZcZYAM",
    "outputId": "4d22a987-b141-4b98-bd9f-1178a4670216"
   },
   "outputs": [],
   "source": [
    "preds_df = pd.DataFrame(preds[0])\n",
    "plt.bar(labels, 100 * preds_df[\"score\"], color='C0')\n",
    "plt.title(f'\"{custom_tweet}\"')\n",
    "plt.ylabel(\"Class probability (%)\")\n",
    "plt.show()"
   ]
  }
 ],
 "metadata": {
  "accelerator": "GPU",
  "colab": {
   "gpuType": "T4",
   "provenance": []
  },
  "kernelspec": {
   "display_name": "Python 3",
   "name": "python3"
  },
  "language_info": {
   "name": "python"
  }
 },
 "nbformat": 4,
 "nbformat_minor": 0
}
